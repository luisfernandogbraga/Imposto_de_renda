{
 "cells": [
  {
   "cell_type": "code",
   "execution_count": 1,
   "metadata": {},
   "outputs": [
    {
     "name": "stdout",
     "output_type": "stream",
     "text": [
      "Devo declarar o imposto\n"
     ]
    }
   ],
   "source": [
    "renda_mensal= float(input(\"Digite sua renda mnsal em reais: \"))\n",
    "renda_Anual= renda_mensal*12 # renda bruta anual \n",
    "\n",
    "if renda_Anual >= 2112.01:\n",
    "    print(\"Devo declarar o imposto\")\n",
    "else:\n",
    "    print(\"Estou livre, não devo pagar nenhum imposto\")    \n",
    "\n",
    "\n"
   ]
  },
  {
   "cell_type": "code",
   "execution_count": 2,
   "metadata": {},
   "outputs": [
    {
     "name": "stdout",
     "output_type": "stream",
     "text": [
      "Seu Imposto de Renda mensal é: R$ 1865.04\n"
     ]
    }
   ],
   "source": [
    "faixas_de_renda_mensal= [2112.00,2826.65,3751.05,4664.68]\n",
    "aliquotas_mensais= [0.075,0.15,0.225,0.275]\n",
    "deducao_por_faixa= [158.40,370.40,651.73,884.96]\n",
    "\n",
    "imposto_de_renda_mensal= 0\n",
    "\n",
    "if renda_mensal <= faixas_de_renda_mensal[0]: # os isentos\n",
    "    imposto_de_renda_mensal= 0\n",
    "elif renda_mensal <= faixas_de_renda_mensal[1]:\n",
    "    imposto_de_renda_mensal= renda_mensal * aliquotas_mensais[0] - deducao_por_faixa[0]\n",
    "elif renda_mensal <= faixas_de_renda_mensal[2]:\n",
    "    imposto_de_renda_mensal= renda_mensal * aliquotas_mensais[1] - deducao_por_faixa[1]\n",
    "elif renda_mensal <= faixas_de_renda_mensal[3]:\n",
    "    imposto_de_renda_mensal= renda_mensal * aliquotas_mensais[2] - deducao_por_faixa[2]\n",
    "else:\n",
    "    imposto_de_renda_mensal= renda_mensal * aliquotas_mensais[3] - deducao_por_faixa[3]\n",
    "\n",
    "print(f'Seu Imposto de Renda mensal é: R$ {imposto_de_renda_mensal:.2f}')\n",
    "    \n"
   ]
  }
 ],
 "metadata": {
  "kernelspec": {
   "display_name": "Python 3 (ipykernel)",
   "language": "python",
   "name": "python3"
  },
  "language_info": {
   "codemirror_mode": {
    "name": "ipython",
    "version": 3
   },
   "file_extension": ".py",
   "mimetype": "text/x-python",
   "name": "python",
   "nbconvert_exporter": "python",
   "pygments_lexer": "ipython3",
   "version": "3.10.8"
  }
 },
 "nbformat": 4,
 "nbformat_minor": 2
}
